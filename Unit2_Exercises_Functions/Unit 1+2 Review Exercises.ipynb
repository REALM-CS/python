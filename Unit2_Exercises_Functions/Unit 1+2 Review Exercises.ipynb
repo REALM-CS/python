{
 "metadata": {
  "name": "",
  "signature": "sha256:b3562e4c53199ed22e30218707ea2b7bcfa875f918041c00cd26ff92a0f869a1"
 },
 "nbformat": 3,
 "nbformat_minor": 0,
 "worksheets": [
  {
   "cells": [
    {
     "cell_type": "heading",
     "level": 1,
     "metadata": {},
     "source": [
      "Units 1 and 2 Review Exercises (Week of February 9-12, 2015)"
     ]
    },
    {
     "cell_type": "heading",
     "level": 2,
     "metadata": {},
     "source": [
      "1. Operators (Doing math with Python):"
     ]
    },
    {
     "cell_type": "markdown",
     "metadata": {},
     "source": [
      "* Remember that we use PEMDAS (Parenthesis / Exponents / Multiplication / Division / Addition / Subtraction) in Python\n"
     ]
    },
    {
     "cell_type": "markdown",
     "metadata": {},
     "source": [
      "* Remember that anything inside quotation marks is a string, not an integer or float"
     ]
    },
    {
     "cell_type": "markdown",
     "metadata": {},
     "source": [
      "* Remember that we can apply operators to strings, too. **'Name'** * 3 = NameNameName"
     ]
    },
    {
     "cell_type": "heading",
     "level": 5,
     "metadata": {},
     "source": [
      "Examples:"
     ]
    },
    {
     "cell_type": "markdown",
     "metadata": {},
     "source": [
      "3+8/2*2\n",
      "= 3 + 8/4\n",
      "= 3 + 2\n",
      "= 5"
     ]
    },
    {
     "cell_type": "code",
     "collapsed": false,
     "input": [
      "#try this\n",
      "\n",
      "100/2+4*2"
     ],
     "language": "python",
     "metadata": {},
     "outputs": []
    },
    {
     "cell_type": "markdown",
     "metadata": {},
     "source": [
      "print '20 + 5'\n",
      "= '20 + 5' (NOT 25, because this is a string of characters)"
     ]
    },
    {
     "cell_type": "code",
     "collapsed": false,
     "input": [
      "#try this\n",
      "\n",
      "print '100 + 3*2'"
     ],
     "language": "python",
     "metadata": {},
     "outputs": []
    },
    {
     "cell_type": "code",
     "collapsed": false,
     "input": [
      "print \"Tic\"*2 + \"Tac\"*2 + \"Toe\"*2\n",
      "= TicTicTacTacToeToe"
     ],
     "language": "python",
     "metadata": {},
     "outputs": []
    },
    {
     "cell_type": "code",
     "collapsed": false,
     "input": [
      "#try this\n",
      "\n",
      "print \"Ada \" + \"Lovelace is \" + \"number 1! \"*3"
     ],
     "language": "python",
     "metadata": {},
     "outputs": []
    },
    {
     "cell_type": "heading",
     "level": 2,
     "metadata": {},
     "source": [
      "2. Types (Ints, Strings and Floats)"
     ]
    },
    {
     "cell_type": "markdown",
     "metadata": {},
     "source": [
      "* Remember that **Integers** are whole numbers (like 10, 29381, -3)"
     ]
    },
    {
     "cell_type": "markdown",
     "metadata": {},
     "source": [
      "* Remember that **Strings** are enclosed by quotation marks (\"39\", \"This is a String\", \"391.192\")"
     ]
    },
    {
     "cell_type": "markdown",
     "metadata": {},
     "source": [
      "* Remember that **Floats** are numbers with a decimal point."
     ]
    },
    {
     "cell_type": "markdown",
     "metadata": {},
     "source": [
      "* Remember that we can figure out the type of a value with the type function: type(39) = Int"
     ]
    },
    {
     "cell_type": "heading",
     "level": 5,
     "metadata": {},
     "source": [
      "Examples:"
     ]
    },
    {
     "cell_type": "code",
     "collapsed": false,
     "input": [
      "type('This is a string')"
     ],
     "language": "python",
     "metadata": {},
     "outputs": [
      {
       "metadata": {},
       "output_type": "pyout",
       "prompt_number": 10,
       "text": [
        "str"
       ]
      }
     ],
     "prompt_number": 10
    },
    {
     "cell_type": "code",
     "collapsed": false,
     "input": [
      "type(39)"
     ],
     "language": "python",
     "metadata": {},
     "outputs": [
      {
       "metadata": {},
       "output_type": "pyout",
       "prompt_number": 11,
       "text": [
        "int"
       ]
      }
     ],
     "prompt_number": 11
    },
    {
     "cell_type": "code",
     "collapsed": false,
     "input": [
      "type(30181038482.39129339302)"
     ],
     "language": "python",
     "metadata": {},
     "outputs": [
      {
       "metadata": {},
       "output_type": "pyout",
       "prompt_number": 12,
       "text": [
        "float"
       ]
      }
     ],
     "prompt_number": 12
    },
    {
     "cell_type": "code",
     "collapsed": false,
     "input": [
      "#Try this:\n",
      "\n",
      "type('5109283920')\n",
      "\n",
      "type('94606')\n",
      "\n",
      "type('1222 University Ave')\n",
      "\n",
      "type(5.0)"
     ],
     "language": "python",
     "metadata": {},
     "outputs": []
    },
    {
     "cell_type": "heading",
     "level": 2,
     "metadata": {},
     "source": [
      "3. Variables"
     ]
    },
    {
     "cell_type": "markdown",
     "metadata": {},
     "source": [
      "* Remember that variables store a value\n",
      "* Remember that we can do mathematical operations with variables\n",
      "* Remember that variables can be assigned different values"
     ]
    },
    {
     "cell_type": "heading",
     "level": 5,
     "metadata": {},
     "source": [
      "Examples"
     ]
    },
    {
     "cell_type": "code",
     "collapsed": false,
     "input": [
      "dinner = \"delicious! \"\n",
      "print dinner + dinner"
     ],
     "language": "python",
     "metadata": {},
     "outputs": [
      {
       "output_type": "stream",
       "stream": "stdout",
       "text": [
        "delicious! delicious! \n"
       ]
      }
     ],
     "prompt_number": 13
    },
    {
     "cell_type": "code",
     "collapsed": false,
     "input": [
      "BestTeacher = \"Jenkins! \"\n",
      "print BestTeacher*20"
     ],
     "language": "python",
     "metadata": {},
     "outputs": [
      {
       "output_type": "stream",
       "stream": "stdout",
       "text": [
        "Jenkins! Jenkins! Jenkins! Jenkins! Jenkins! Jenkins! Jenkins! Jenkins! Jenkins! Jenkins! Jenkins! Jenkins! Jenkins! Jenkins! Jenkins! Jenkins! Jenkins! Jenkins! Jenkins! Jenkins! \n"
       ]
      }
     ],
     "prompt_number": 14
    },
    {
     "cell_type": "code",
     "collapsed": false,
     "input": [
      "#This doesn't work because you can't divide a string (\"gopher\") by an integer (2)\n",
      "\n",
      "pet = \"gopher\"\n",
      "print pet/2"
     ],
     "language": "python",
     "metadata": {},
     "outputs": [
      {
       "ename": "TypeError",
       "evalue": "unsupported operand type(s) for /: 'str' and 'int'",
       "output_type": "pyerr",
       "traceback": [
        "\u001b[0;31m---------------------------------------------------------------------------\u001b[0m\n\u001b[0;31mTypeError\u001b[0m                                 Traceback (most recent call last)",
        "\u001b[0;32m<ipython-input-16-a016e7e7958b>\u001b[0m in \u001b[0;36m<module>\u001b[0;34m()\u001b[0m\n\u001b[1;32m      2\u001b[0m \u001b[0;34m\u001b[0m\u001b[0m\n\u001b[1;32m      3\u001b[0m \u001b[0mpet\u001b[0m \u001b[0;34m=\u001b[0m \u001b[0;34m\"gopher\"\u001b[0m\u001b[0;34m\u001b[0m\u001b[0m\n\u001b[0;32m----> 4\u001b[0;31m \u001b[0;32mprint\u001b[0m \u001b[0mpet\u001b[0m\u001b[0;34m/\u001b[0m\u001b[0;36m2\u001b[0m\u001b[0;34m\u001b[0m\u001b[0m\n\u001b[0m",
        "\u001b[0;31mTypeError\u001b[0m: unsupported operand type(s) for /: 'str' and 'int'"
       ]
      }
     ],
     "prompt_number": 16
    },
    {
     "cell_type": "code",
     "collapsed": false,
     "input": [
      "name = \"President\"\n",
      "name = \"Elizabeth Warren\" #now, name doesn't equal 'President' anymore. It only equals 'Elizabeth Warren.'\n",
      "name = name + name # name = Elizabeth Warren + Elizabeth Warren\n",
      "print name"
     ],
     "language": "python",
     "metadata": {},
     "outputs": [
      {
       "output_type": "stream",
       "stream": "stdout",
       "text": [
        "Elizabeth WarrenElizabeth Warren\n"
       ]
      }
     ],
     "prompt_number": 18
    },
    {
     "cell_type": "code",
     "collapsed": false,
     "input": [
      "#try this:\n",
      "\n",
      "pet = \"Snakes\"\n",
      "pet = \"Sugar Glider\"\n",
      "pet = pet*2\n",
      "print pet"
     ],
     "language": "python",
     "metadata": {},
     "outputs": []
    },
    {
     "cell_type": "code",
     "collapsed": false,
     "input": [
      "#try this:\n",
      "\n",
      "age = 4\n",
      "age = 12\n",
      "age = age + age\n",
      "print age"
     ],
     "language": "python",
     "metadata": {},
     "outputs": []
    },
    {
     "cell_type": "heading",
     "level": 2,
     "metadata": {},
     "source": [
      "4. Concatenation"
     ]
    },
    {
     "cell_type": "markdown",
     "metadata": {},
     "source": [
      "* Remember that concatenation means joining strings by linking them end to end\n",
      "* Remember that we cannot concatenate (join) strings and floats or strings and integers. We have to use the **str()** function to convert numbers into strings.\n",
      "* Remember that we can use the **raw_input()** function to collect information from a user. The **raw_input()** function always collects data in the form of a string.\n",
      "* Remember that we can apply math operations to variables"
     ]
    },
    {
     "cell_type": "heading",
     "level": 5,
     "metadata": {},
     "source": [
      "Examples:"
     ]
    },
    {
     "cell_type": "code",
     "collapsed": false,
     "input": [
      "first = \"throat\"\n",
      "second = \"warbler\"\n",
      "print first + second"
     ],
     "language": "python",
     "metadata": {},
     "outputs": [
      {
       "output_type": "stream",
       "stream": "stdout",
       "text": [
        "throatwarbler\n"
       ]
      }
     ],
     "prompt_number": 19
    },
    {
     "cell_type": "code",
     "collapsed": false,
     "input": [
      "age = 3\n",
      "name = \"Kevin\"\n",
      "print name + \", my brother, is \" + str(age) + \" years old.\""
     ],
     "language": "python",
     "metadata": {},
     "outputs": [
      {
       "output_type": "stream",
       "stream": "stdout",
       "text": [
        "Kevin, my brother, is 3 years old.\n"
       ]
      }
     ],
     "prompt_number": 22
    },
    {
     "cell_type": "code",
     "collapsed": false,
     "input": [
      "name = raw_input(\"What is your brother's name?\")\n",
      "age = raw_input(\"What is your brother's age?\")\n",
      "print name + \", my brother, is \" + str(age) + \" years old.\""
     ],
     "language": "python",
     "metadata": {},
     "outputs": [
      {
       "name": "stdout",
       "output_type": "stream",
       "stream": "stdout",
       "text": [
        "What is your brother's name?Brandon\n"
       ]
      },
      {
       "name": "stdout",
       "output_type": "stream",
       "stream": "stdout",
       "text": [
        "What is your brother's age?31\n"
       ]
      },
      {
       "output_type": "stream",
       "stream": "stdout",
       "text": [
        "Brandon, my brother, is 31 years old.\n"
       ]
      }
     ],
     "prompt_number": 2
    },
    {
     "cell_type": "code",
     "collapsed": false,
     "input": [
      "# Try this:\n",
      "# This program calculates the volume of a box based on user input.\n",
      "# Remember that the volume of a box is length x width x height.\n",
      "\n",
      "length = raw_input(\"What is the length of your box in feet?\")\n",
      "width = raw_input(\"What is the width of your box in feet?\")\n",
      "height = raw_input(\"What is the height of your box in feet?\")\n",
      "volume = length*width*height # This is where we calculate the volume\n",
      "print \"Your box is \" + volume + \" cubic feet.\""
     ],
     "language": "python",
     "metadata": {},
     "outputs": []
    },
    {
     "cell_type": "code",
     "collapsed": false,
     "input": [
      "# Try this:\n",
      "hourly_wage = raw_input(\"How much do you make per hour?\")\n",
      "weekly_hours = raw_input(\"How many hours do you work per week?\")\n",
      "weekly_wage = hourly_wage*weekly_wage\n",
      "print \"You earn \" + weekly_wage + \" per week.\""
     ],
     "language": "python",
     "metadata": {},
     "outputs": []
    },
    {
     "cell_type": "heading",
     "level": 2,
     "metadata": {},
     "source": [
      "5. Functions"
     ]
    },
    {
     "cell_type": "markdown",
     "metadata": {},
     "source": [
      "* Remember that functions are bits of code that can be used over and over again to do a job\n",
      "* Remember that some functions are built into Python, like **str()**, **type(),** and **print()**\n",
      "* Remember that some functions take parameters, which represent a value\n",
      "* Remember that we can use functions inside of other functions\n",
      "* Remember that we follow a **\"flow of execution\"** when we run functions. That means we start with the first statement of the program."
     ]
    },
    {
     "cell_type": "heading",
     "level": 5,
     "metadata": {},
     "source": [
      "Exercises:"
     ]
    },
    {
     "cell_type": "code",
     "collapsed": false,
     "input": [
      "def PrintTwice(): # This line is where we define the function. PrintTwice() does not take a parameter.\n",
      "    print \"Hello, World\" # These two lines describe what the function will do\n",
      "    print \"Hello, World\"\n",
      "    \n",
      "PrintTwice() # This is the \"function call.\" If we don't have this line, the function doesn't know that we want it to run."
     ],
     "language": "python",
     "metadata": {},
     "outputs": [
      {
       "output_type": "stream",
       "stream": "stdout",
       "text": [
        "Hello, World\n",
        "Hello, World\n"
       ]
      }
     ],
     "prompt_number": 3
    },
    {
     "cell_type": "code",
     "collapsed": false,
     "input": [
      "def PrintFourTimes(): # This is a new function called PrintFourTimes. It does not take a parameter.\n",
      "    PrintTwice() # This function calls another function named PrintTwice() and does that function's job.\n",
      "    PrintTwice() # Here, it runs PrintTwice() again.\n",
      "\n",
      "PrintFourTimes() # This is the function call."
     ],
     "language": "python",
     "metadata": {},
     "outputs": [
      {
       "output_type": "stream",
       "stream": "stdout",
       "text": [
        "Hello, World\n",
        "Hello, World\n",
        "Hello, World\n",
        "Hello, World\n"
       ]
      }
     ],
     "prompt_number": 6
    },
    {
     "cell_type": "code",
     "collapsed": false,
     "input": [
      "# We can also tell the function called PrintTwice() to take a parameter.\n",
      "def PrintTwice(lyrics): # lyrics is the parameter. It is a placeholder for the real lyrics we want to print later.\n",
      "    print lyrics # This function will print lyrics once,\n",
      "    print lyrics # and then will print lyrics a second time.\n",
      "\n",
      "PrintTwice(\"Like a room without a roof\") #The lyrics we want to print are \"Like a room without a roof\""
     ],
     "language": "python",
     "metadata": {},
     "outputs": [
      {
       "output_type": "stream",
       "stream": "stdout",
       "text": [
        "Like a room without a roof\n",
        "Like a room without a roof\n"
       ]
      }
     ],
     "prompt_number": 7
    },
    {
     "cell_type": "code",
     "collapsed": false,
     "input": [
      "# So what will happen if we do this? Try it yourself.\n",
      "def PrintFourTimes(lyrics):\n",
      "    PrintTwice(lyrics)\n",
      "    PrintTwice(lyrics)\n",
      "\n",
      "PrintFourTimes(\"Like a room without a roof\")"
     ],
     "language": "python",
     "metadata": {},
     "outputs": []
    },
    {
     "cell_type": "code",
     "collapsed": false,
     "input": [
      "# Sometimes, functions are called inside other functions.\n",
      "# We have to follow the \"flow of execution\" to figure out how to run them.\n",
      "# Start with strange_requests() at the bottom. What is the first function it calls?\n",
      "\n",
      "def pets():\n",
      "    print \"I love sugargliders! \" * 2\n",
      "\n",
      "def how_many(number):\n",
      "    print \"I want \" + str(number) + \" sugargliders!\"\n",
      "    \n",
      "def strange_requests(number):\n",
      "    pets()\n",
      "    how_many(number)\n",
      "\n",
      "strange_requests(203)"
     ],
     "language": "python",
     "metadata": {},
     "outputs": [
      {
       "output_type": "stream",
       "stream": "stdout",
       "text": [
        "I love sugargliders! I love sugargliders! \n",
        "I want 203 sugargliders!\n"
       ]
      }
     ],
     "prompt_number": 13
    },
    {
     "cell_type": "code",
     "collapsed": false,
     "input": [
      "# Begin with Gil_Scott_Heron() at the bottom. Which function does it call first?\n",
      "\n",
      "def function_a():\n",
      "  function_c()\n",
      "\n",
      "def function_b():\n",
      "  print \"The revolution will not be televised,\"\n",
      "  function_a()\n",
      "\n",
      "def function_c():\n",
      "    print \"will not be televised, \"*2\n",
      "    \n",
      "def function_d():\n",
      "    print \"The revolution will be live.\"\n",
      "\n",
      "def Gil_Scott_Heron():\n",
      "  function_b()\n",
      "  print \"The revolution will be no re-run brothers;\"\n",
      "  function_d()\n",
      "\n",
      "Gil_Scott_Heron()"
     ],
     "language": "python",
     "metadata": {},
     "outputs": [
      {
       "output_type": "stream",
       "stream": "stdout",
       "text": [
        "The revolution will not be televised,\n",
        "will not be televised, will not be televised, \n",
        "The revolution will be no re-run brothers;\n",
        "The revolution will be live.\n"
       ]
      }
     ],
     "prompt_number": 9
    },
    {
     "cell_type": "code",
     "collapsed": false,
     "input": [],
     "language": "python",
     "metadata": {},
     "outputs": []
    }
   ],
   "metadata": {}
  }
 ]
}