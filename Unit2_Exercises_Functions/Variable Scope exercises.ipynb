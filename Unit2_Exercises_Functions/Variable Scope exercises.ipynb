{
 "metadata": {
  "name": "",
  "signature": "sha256:5414ad1915538b30838938ae118467376b0c163d38598e96fbdae3db60e09748"
 },
 "nbformat": 3,
 "nbformat_minor": 0,
 "worksheets": [
  {
   "cells": [
    {
     "cell_type": "heading",
     "level": 2,
     "metadata": {},
     "source": [
      "Use these exercises to practice your understanding of local and global variables."
     ]
    },
    {
     "cell_type": "markdown",
     "metadata": {},
     "source": [
      "What happens when you run them in PyCharm? Do your best to understand the errors."
     ]
    },
    {
     "cell_type": "code",
     "collapsed": false,
     "input": [
      "# 1 * * * * * * * * * * * * *\n",
      "def print_all():\n",
      "    print X, Y, Z,\n",
      "\n",
      "def setup():\n",
      "    X = 4\n",
      "    Y = 6\n",
      "    Z = 5\n",
      "setup()\n",
      "print_all()"
     ],
     "language": "python",
     "metadata": {},
     "outputs": []
    },
    {
     "cell_type": "code",
     "collapsed": false,
     "input": [
      "# 2 * * * * * * * * * * * * *\n",
      "X = 5\n",
      "Y = 3\n",
      "def add(a, b):\n",
      "    print X + Y\n",
      "add(2, 4)\n"
     ],
     "language": "python",
     "metadata": {},
     "outputs": []
    },
    {
     "cell_type": "code",
     "collapsed": false,
     "input": [
      "# 3 * * * * * * * * * * * * *\n",
      "def switch_cat(a, b):\n",
      "    print a, b\n",
      "    print b, a\n",
      "print a, b"
     ],
     "language": "python",
     "metadata": {},
     "outputs": []
    },
    {
     "cell_type": "code",
     "collapsed": false,
     "input": [
      "# 4 * * * * * * * * * * * * *\n",
      "word = \"winning\"\n",
      "def emphasize(string):\n",
      "    print \"*\" + string + \"*\"\n",
      "    print emphasize, word\n",
      "print string"
     ],
     "language": "python",
     "metadata": {},
     "outputs": []
    },
    {
     "cell_type": "code",
     "collapsed": false,
     "input": [
      "# 5 * * * * * * * * * * * * *\n",
      "def this():\n",
      "    X = 4\n",
      "    print X, Y\n",
      "def that(Y):\n",
      "    print Y\n",
      "this()"
     ],
     "language": "python",
     "metadata": {},
     "outputs": []
    },
    {
     "cell_type": "heading",
     "level": 2,
     "metadata": {},
     "source": [
      "Print a Grid // Challenge"
     ]
    },
    {
     "cell_type": "markdown",
     "metadata": {},
     "source": [
      "*Based on Exercise 3.5 in Think Python*\n",
      "\n",
      "Write a function called print_grid that takes a width and draws a 4x4 grid of cells with the given width and height 2.\n",
      "\n",
      "Sample code and output:"
     ]
    },
    {
     "cell_type": "code",
     "collapsed": false,
     "input": [
      "def print_grid(width):\n",
      "    #Your code here\n",
      "\n",
      "print_grid(3)\n",
      "print_grid(18)\n",
      "\n",
      "+---+---+\n",
      "|   |   |\n",
      "|   |   |\n",
      "+---+---+\n",
      "|   |   |\n",
      "|   |   |\n",
      "+---+---+\n",
      "+------------------+------------------+\n",
      "|                  |                  |\n",
      "|                  |                  |\n",
      "+------------------+------------------+\n",
      "|                  |                  |\n",
      "|                  |                  |\n",
      "+------------------+------------------+"
     ],
     "language": "python",
     "metadata": {},
     "outputs": []
    },
    {
     "cell_type": "markdown",
     "metadata": {},
     "source": [
      "\n",
      "Once you've finished, change your program to only use 3 | characters, 3 + characters, and 2 - characters. You may need to add more functions to do this.\n",
      "\n",
      "**Challenge:** Use only **2** | characters, **2** + characters, and **1** - character in your program.\n",
      "\n",
      "Hint: To print more than one value on a line, you can print a comma-separated sequence: print '+', '-'.\n",
      "If the sequence ends with a comma, Python leaves the line un\ufb01nished, so the value printed next appears on the same line.\n",
      "\n",
      "print '+',\n",
      "print '-'\n",
      "\n",
      "The output of both these statements is '+ -'. A print statement all by itself ends the current line and goes to the next line.\n",
      "\n",
      "**Extra Challenge:** Make print_grid take another argument for how many columns the grid should have. For example, print_grid(4, 5) should output:"
     ]
    },
    {
     "cell_type": "code",
     "collapsed": false,
     "input": [
      "+----+----+----+----+----+\n",
      "|    |    |    |    |    |\n",
      "|    |    |    |    |    |\n",
      "+----+----+----+----+----+\n",
      "|    |    |    |    |    |\n",
      "|    |    |    |    |    |\n",
      "+----+----+----+----+----+"
     ],
     "language": "python",
     "metadata": {},
     "outputs": []
    },
    {
     "cell_type": "markdown",
     "metadata": {},
     "source": [
      "**Super Extra Challenge:** Make print_grid take yet another argument for how many rows the grid should have. For example, print_grid(4, 5, 3) should output:"
     ]
    },
    {
     "cell_type": "code",
     "collapsed": false,
     "input": [
      "+----+----+----+----+----+\n",
      "|    |    |    |    |    |\n",
      "|    |    |    |    |    |\n",
      "+----+----+----+----+----+\n",
      "|    |    |    |    |    |\n",
      "|    |    |    |    |    |\n",
      "+----+----+----+----+----+\n",
      "|    |    |    |    |    |\n",
      "|    |    |    |    |    |\n",
      "+----+----+----+----+----+"
     ],
     "language": "python",
     "metadata": {},
     "outputs": []
    },
    {
     "cell_type": "markdown",
     "metadata": {},
     "source": [
      "Hint: In python you can have a string with a newline in it by using \\n. For example print \"Hello\\nWorld\" would output\n",
      "\n",
      "Hello\n",
      "World\n"
     ]
    },
    {
     "cell_type": "code",
     "collapsed": false,
     "input": [],
     "language": "python",
     "metadata": {},
     "outputs": []
    }
   ],
   "metadata": {}
  }
 ]
}