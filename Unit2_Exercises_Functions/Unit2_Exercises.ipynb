{
 "metadata": {
  "name": "",
  "signature": "sha256:be5dc2098592b191d4958a78a530e71347223c539113e98547dcc8cdca9707eb"
 },
 "nbformat": 3,
 "nbformat_minor": 0,
 "worksheets": [
  {
   "cells": [
    {
     "cell_type": "heading",
     "level": 1,
     "metadata": {},
     "source": [
      "Unit 2: Exercises"
     ]
    },
    {
     "cell_type": "heading",
     "level": 2,
     "metadata": {},
     "source": [
      "1. Built-in Python functions. (Lesson 1)"
     ]
    },
    {
     "cell_type": "code",
     "collapsed": false,
     "input": [
      "Try these:\n",
      "    1. print float(30)\n",
      "    2. zip_code = str(94702)\n",
      "       print type(zip_code)\n",
      "    3. name = float('REALM')\n",
      "       print name\n",
      "    4. year = int('1776')\n",
      "       print year + 10\n",
      "    5. gpa = int(2.911111)\n",
      "       print gpa"
     ],
     "language": "python",
     "metadata": {},
     "outputs": []
    },
    {
     "cell_type": "heading",
     "level": 2,
     "metadata": {},
     "source": [
      "2. Writing our own functions. (Lesson 2)"
     ]
    },
    {
     "cell_type": "heading",
     "level": 3,
     "metadata": {},
     "source": [
      "Try these exercises for practice."
     ]
    },
    {
     "cell_type": "code",
     "collapsed": false,
     "input": [
      "def print_lyrics():\n",
      "    print \"I'm a lumberjack, and I'm okay.\"\n",
      "    print \"I sleep all night and I work all day.\"\n",
      "    \n",
      "def repeat_lyrics():\n",
      "    print_lyrics()\n",
      "    print_lyrics()\n",
      "    \n",
      "repeat_lyrics()"
     ],
     "language": "python",
     "metadata": {},
     "outputs": []
    },
    {
     "cell_type": "markdown",
     "metadata": {},
     "source": [
      "* What's going on here? Why are the lyrics printed twice?"
     ]
    },
    {
     "cell_type": "markdown",
     "metadata": {},
     "source": [
      "* Move the last line of the program above to the top, so that the function\n",
      "is called before the definitions. Run the program and see what error message you get.\n"
     ]
    },
    {
     "cell_type": "markdown",
     "metadata": {},
     "source": [
      "* Move the function call back to the bottom and move the defminition of print_lyrics after the definition of repeat_lyrics. What happens when you run this program?"
     ]
    },
    {
     "cell_type": "code",
     "collapsed": false,
     "input": [
      "def greeting()\n",
      "    print \"Ni hao!\"\n",
      "greeting()"
     ],
     "language": "python",
     "metadata": {},
     "outputs": []
    },
    {
     "cell_type": "markdown",
     "metadata": {},
     "source": [
      "* What is the error? How can you fix it?"
     ]
    },
    {
     "cell_type": "code",
     "collapsed": false,
     "input": [
      "def phone_number():\n",
      "    number = '9179220018'\n",
      "    print \"Your phone number is \" + number + '.'\n",
      "Phone_Number()"
     ],
     "language": "python",
     "metadata": {},
     "outputs": []
    },
    {
     "cell_type": "markdown",
     "metadata": {},
     "source": [
      "* What is the error? How can you fix it?"
     ]
    },
    {
     "cell_type": "code",
     "collapsed": false,
     "input": [
      "def underinflated():\n",
      "    response = raw_input(\"Do you think the Patriots cheated?\")\n",
      "    print response\n",
      "underinflatad()"
     ],
     "language": "python",
     "metadata": {},
     "outputs": []
    },
    {
     "cell_type": "markdown",
     "metadata": {},
     "source": [
      "* What is the error? How can you fix it?"
     ]
    },
    {
     "cell_type": "code",
     "collapsed": false,
     "input": [
      "def class_schedule():\n",
      "    first_period = PE\n",
      "    second_period = English\n",
      "    third_period = History\n",
      "    MorningSchedule = first_period + second_period + third_period\n",
      "print MorningSchedule"
     ],
     "language": "python",
     "metadata": {},
     "outputs": []
    },
    {
     "cell_type": "markdown",
     "metadata": {},
     "source": [
      "* What is the error? How can you fix it? (The program should return a string that looks like 'PEEnglishHistory.')"
     ]
    },
    {
     "cell_type": "heading",
     "level": 3,
     "metadata": {},
     "source": [
      "Your turn:"
     ]
    },
    {
     "cell_type": "markdown",
     "metadata": {},
     "source": [
      "* Write a function called **`best_song_ever`** that returns the first four lines of Taylor Swift's \"Shake it Off\"."
     ]
    },
    {
     "cell_type": "code",
     "collapsed": false,
     "input": [
      "def best_song_ever():"
     ],
     "language": "python",
     "metadata": {},
     "outputs": []
    },
    {
     "cell_type": "markdown",
     "metadata": {},
     "source": [
      "* Write a function called **`user_age_in_2020`** that asks the user how old they are, and then returns the user's age in 2020."
     ]
    },
    {
     "cell_type": "markdown",
     "metadata": {},
     "source": [
      "* Write a function called **`school_day_length`** that asks the user for the time school begins and for the time school ends. Do a calculation in the function to determine how long the school day is. Here, I'll start it off for you:"
     ]
    },
    {
     "cell_type": "code",
     "collapsed": false,
     "input": [
      "def school_day_length():\n",
      "    start_time = int(raw_input(\"What time do you start school?\"))"
     ],
     "language": "python",
     "metadata": {},
     "outputs": []
    },
    {
     "cell_type": "heading",
     "level": 2,
     "metadata": {},
     "source": [
      "3. Writing our own functions, with parameters. (Lesson 3)"
     ]
    },
    {
     "cell_type": "markdown",
     "metadata": {},
     "source": [
      "### Breakfast problems!"
     ]
    },
    {
     "cell_type": "markdown",
     "metadata": {},
     "source": [
      "*The exercises below [live here](https://github.com/NYCiSchoolCS/think-python/edit/master/Exercises/Unit2.md)*."
     ]
    },
    {
     "cell_type": "markdown",
     "metadata": {},
     "source": [
      "1. Write a function called **`make_coffee`** that takes how many cups of coffee you want to make. It should print the amount of coffee and water you need to use assuming you need 1 tablespoon of coffee per cup of water, and 1.5 cup of water per cup of coffee.\n",
      "\n",
      "2. Write a function called **`cook_eggs`** that takes a number of eggs and prints how long it will take to make the eggs. Assume that it take 2 minutes to cook each egg, and you must cook them individually.\n",
      "\n",
      "3. Write a function called **`make_toast`** that takes how many pieces of bread you want to make into toast and prints out how much butter and jam you need. Assume you need .5 tablespoons of butter and 1 tablespoon of jam per piece of toast.\n",
      "\n",
      "4. Write a function called **`get_cereal`** that takes the number of bowl of cereal you want and prints out how many bowls and spoons are needed, how much milk is needed and how much cereal is needed. Assume each bowl of cereal needs 1 cup of cereal and .5 cups of milk.\n",
      "\n",
      "5. Write a function called **`make_grits`** that takes how many servings of grits to make. It should print how many cups of water and grits is needed, and how long it will take to cook them. It takes 5 cups of water to cook each cup of grits and there is .25 cups of grits in a serving. No matter how much you\u2019re cooking, it always takes 30 mins to cook.\n",
      "\n",
      "6. Write a function called **`prepare_breakfast`**. It should take the number of people who are eating breakfest, and output everything you need to know to make a breakfest with toast, coffee, cereal, grits and eggs. __It should use the other functions you just wrote above.__\n",
      "\n",
      "For example:\n",
      "\n",
      "```\n",
      ">>> prepare_breakfast(2)\n",
      "You need 3.0 cups of water and 2 tablespoons of coffee\n",
      "It will take you 4 minutes to cook your eggs\n",
      "You need 1.0 tablespoons of butter and 2 tablespoons of jam\n",
      "You need 2 bowls and spoons\n",
      "You need 1.0 cups of milk and 2 cups of cereal\n",
      "You need 2.5 cups of water and 0.5 cups of grits and it will take 30 minutes to cook them\n",
      ">>> prepare_breakfast(10)\n",
      "You need 15.0 cups of water and 10 tablespoons of coffee\n",
      "It will take you 20 minutes to cook your eggs\n",
      "You need 5.0 tablespoons of butter and 10 tablespoons of jam\n",
      "You need 10 bowls and spoons\n",
      "You need 5.0 cups of milk and 10 cups of cereal\n",
      "You need 12.5 cups of water and 2.5 cups of grits and it will take 30 minutes to cook them\n",
      "```\n"
     ]
    },
    {
     "cell_type": "heading",
     "level": 2,
     "metadata": {},
     "source": [
      "CHALLENGE"
     ]
    },
    {
     "cell_type": "markdown",
     "metadata": {},
     "source": [
      "*Part One:* Python provides a built-in function called *len* that returns the length of a string, so the value of len('cheese') is 6. Write a function that takes a string named s as a parameter and prints the string with enough leading spaces so that the last letter of the string is in column 70 of the display screen. The output should look like this:"
     ]
    },
    {
     "cell_type": "code",
     "collapsed": false,
     "input": [
      "right_justify('cheese')"
     ],
     "language": "python",
     "metadata": {},
     "outputs": [
      {
       "output_type": "stream",
       "stream": "stdout",
       "text": [
        "                                                                cheese\n"
       ]
      }
     ],
     "prompt_number": 17
    },
    {
     "cell_type": "markdown",
     "metadata": {},
     "source": [
      "*Part Two:* Next, write a function named `center_justify` that does the same thing, but centers the string in a column 70 display. Sample code and output:"
     ]
    },
    {
     "cell_type": "markdown",
     "metadata": {},
     "source": [
      "```\n",
      "def center_justify(s):\n",
      "    #Your code here\n",
      "\n",
      "right_justify(\"70 chars |\")\n",
      "center_justify(\"allen\")\n",
      "center_justify(\"supercalifragilisticexpialidocious\")\n",
      "center_justify(\"cat\")\n",
      "center_justify(\"The dog likes the toy\")\n",
      "```\n",
      "```\n",
      "                                                            70 chars |\n",
      "                                 allen\n",
      "                  supercalifragilisticexpialidocious\n",
      "                                  cat\n",
      "                         The dog likes the toy\n",
      "```"
     ]
    },
    {
     "cell_type": "code",
     "collapsed": false,
     "input": [],
     "language": "python",
     "metadata": {},
     "outputs": []
    }
   ],
   "metadata": {}
  }
 ]
}