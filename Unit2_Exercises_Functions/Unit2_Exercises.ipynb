{
 "metadata": {
  "name": "",
  "signature": "sha256:b9c9aa3d84210dd6c9a07ddaceca4be5c5c7555a4903132fc749851bbd5d44ac"
 },
 "nbformat": 3,
 "nbformat_minor": 0,
 "worksheets": [
  {
   "cells": [
    {
     "cell_type": "heading",
     "level": 1,
     "metadata": {},
     "source": [
      "Unit 2: Exercises"
     ]
    },
    {
     "cell_type": "heading",
     "level": 2,
     "metadata": {},
     "source": [
      "1. Built-in Python functions."
     ]
    },
    {
     "cell_type": "code",
     "collapsed": false,
     "input": [
      "Try these:\n",
      "    1. print float(30)\n",
      "    2. zip_code = str(94702)\n",
      "       print type(zip_code)\n",
      "    3. name = float('REALM')\n",
      "       print name\n",
      "    4. year = int('1776')\n",
      "       print year + 10\n",
      "    5. gpa = int(2.911111)\n",
      "       print gpa"
     ],
     "language": "python",
     "metadata": {},
     "outputs": []
    },
    {
     "cell_type": "heading",
     "level": 2,
     "metadata": {},
     "source": [
      "2. Writing our own functions."
     ]
    },
    {
     "cell_type": "heading",
     "level": 3,
     "metadata": {},
     "source": [
      "Try these exercises for practice."
     ]
    },
    {
     "cell_type": "code",
     "collapsed": false,
     "input": [
      "def print_lyrics():\n",
      "    print \"I'm a lumberjack, and I'm okay.\"\n",
      "    print \"I sleep all night and I work all day.\"\n",
      "    \n",
      "def repeat_lyrics():\n",
      "    print_lyrics()\n",
      "    print_lyrics()\n",
      "    \n",
      "repeat_lyrics()"
     ],
     "language": "python",
     "metadata": {},
     "outputs": []
    },
    {
     "cell_type": "markdown",
     "metadata": {},
     "source": [
      "* Move the last line of the program above to the top, so that the function\n",
      "is called before the definitions. Run the program and see what error message you get.\n"
     ]
    },
    {
     "cell_type": "markdown",
     "metadata": {},
     "source": [
      "* Move the function call back to the bottom and move the defminition of print_lyrics after the definition of repeat_lyrics. What happens when you run this program?"
     ]
    },
    {
     "cell_type": "code",
     "collapsed": false,
     "input": [
      "def greeting()\n",
      "    print \"Ni hao!\"\n",
      "greeting()"
     ],
     "language": "python",
     "metadata": {},
     "outputs": []
    },
    {
     "cell_type": "markdown",
     "metadata": {},
     "source": [
      "* What is the error? How can you fix it?"
     ]
    },
    {
     "cell_type": "code",
     "collapsed": false,
     "input": [
      "def phone_number():\n",
      "    number = '9179220018'\n",
      "    print \"Your phone number is \" + number + '.'\n",
      "Phone_Number()"
     ],
     "language": "python",
     "metadata": {},
     "outputs": []
    },
    {
     "cell_type": "markdown",
     "metadata": {},
     "source": [
      "* What is the error? How can you fix it?"
     ]
    },
    {
     "cell_type": "code",
     "collapsed": false,
     "input": [
      "def underinflated():\n",
      "    response = raw_input(\"Do you think the Patriots cheated?\")\n",
      "    print response\n",
      "underinflatad()"
     ],
     "language": "python",
     "metadata": {},
     "outputs": []
    },
    {
     "cell_type": "markdown",
     "metadata": {},
     "source": [
      "* What is the error? How can you fix it?"
     ]
    },
    {
     "cell_type": "code",
     "collapsed": false,
     "input": [
      "def class_schedule():\n",
      "    first_period = PE\n",
      "    second_period = English\n",
      "    third_period = History\n",
      "    MorningSchedule = first_period + second_period + third_period\n",
      "print MorningSchedule"
     ],
     "language": "python",
     "metadata": {},
     "outputs": []
    },
    {
     "cell_type": "markdown",
     "metadata": {},
     "source": [
      "* What is the error? How can you fix it? (The program should return a string that looks like 'PEEnglishHistory.')"
     ]
    },
    {
     "cell_type": "heading",
     "level": 4,
     "metadata": {},
     "source": [
      "1. Write a function that returns the first four lines of Taylor Swift's \"Shake it Off\"."
     ]
    },
    {
     "cell_type": "heading",
     "level": 4,
     "metadata": {},
     "source": [
      "2. Write a function that asks the user for the time school begins and for the time school ends. Do a calculation in the function to determine how long the school day is. Here, I'll start it off for you:"
     ]
    },
    {
     "cell_type": "code",
     "collapsed": false,
     "input": [
      "def school_length():\n",
      "    begin = int(raw_input(\"What time do you start school?\"))"
     ],
     "language": "python",
     "metadata": {},
     "outputs": []
    },
    {
     "cell_type": "heading",
     "level": 2,
     "metadata": {},
     "source": [
      "3. Writing our own functions, with parameters."
     ]
    },
    {
     "cell_type": "heading",
     "level": 2,
     "metadata": {},
     "source": [
      "BONUS"
     ]
    },
    {
     "cell_type": "markdown",
     "metadata": {},
     "source": [
      "1. Python provides a built-in function called *len* that returns the length of a string, so the value of len('cheese') is 6. Write a function that takes a string named s as a parameter and prints the string with enough leading spaces so that the last letter of the string is in column 70 of the display screen. The output should look like this:"
     ]
    },
    {
     "cell_type": "code",
     "collapsed": false,
     "input": [
      "right_justify('cheese')"
     ],
     "language": "python",
     "metadata": {},
     "outputs": [
      {
       "output_type": "stream",
       "stream": "stdout",
       "text": [
        "                                                                cheese\n"
       ]
      }
     ],
     "prompt_number": 17
    },
    {
     "cell_type": "code",
     "collapsed": false,
     "input": [],
     "language": "python",
     "metadata": {},
     "outputs": []
    }
   ],
   "metadata": {}
  }
 ]
}