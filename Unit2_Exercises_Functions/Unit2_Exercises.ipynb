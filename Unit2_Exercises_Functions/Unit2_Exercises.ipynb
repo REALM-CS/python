{
 "metadata": {
  "name": "",
  "signature": "sha256:c41f8aa4d91efe1281f4c1e69e8088f777fbf4a50d61ccd5a9d14b7cde8ec3fb"
 },
 "nbformat": 3,
 "nbformat_minor": 0,
 "worksheets": [
  {
   "cells": [
    {
     "cell_type": "heading",
     "level": 1,
     "metadata": {},
     "source": [
      "Unit 2: Exercises"
     ]
    },
    {
     "cell_type": "heading",
     "level": 2,
     "metadata": {},
     "source": [
      "1. Built-in Python functions."
     ]
    },
    {
     "cell_type": "code",
     "collapsed": false,
     "input": [
      "Try these:\n",
      "    1. print float(30)\n",
      "    2. zip_code = str(94702)\n",
      "       print type(zip_code)\n",
      "    3. name = float('REALM')\n",
      "       print name\n",
      "    4. year = int('1776')\n",
      "       print year + 10\n",
      "    5. gpa = int(2.911111)\n",
      "       print gpa"
     ],
     "language": "python",
     "metadata": {},
     "outputs": []
    },
    {
     "cell_type": "heading",
     "level": 2,
     "metadata": {},
     "source": [
      "2. Word problem of the day."
     ]
    },
    {
     "cell_type": "markdown",
     "metadata": {},
     "source": [
      "There is a pizza special on Tuesdays! Pizzas cost 7.75 each if you buy two of them. If you buy a single pizza, it is 12.50. Write a program that asks a user how much money s/he has in their wallet, and calculates how many pizzas the user can buy. The output should read: \"You can buy X# pizzas and it will cost you $X.\""
     ]
    },
    {
     "cell_type": "code",
     "collapsed": false,
     "input": [],
     "language": "python",
     "metadata": {},
     "outputs": []
    }
   ],
   "metadata": {}
  }
 ]
}