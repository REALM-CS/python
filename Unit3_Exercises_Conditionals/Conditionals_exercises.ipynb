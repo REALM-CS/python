{
 "metadata": {
  "name": "",
  "signature": "sha256:10fdbbc7281ec07887dd4bfb3f1116ab85bbeda9ecfda388865dcca119c87202"
 },
 "nbformat": 3,
 "nbformat_minor": 0,
 "worksheets": [
  {
   "cells": [
    {
     "cell_type": "heading",
     "level": 2,
     "metadata": {},
     "source": [
      "Conditional Problems!"
     ]
    },
    {
     "cell_type": "code",
     "collapsed": false,
     "input": [
      "#Example 1, grade calculator. What will this print?\n",
      "\n",
      "grade = 72\n",
      "\n",
      "if grade > 90:\n",
      "    print \"You earned an A!\"\n",
      "elif grade > 80:\n",
      "    print \"You earned a B!\"\n",
      "elif grade > 70:\n",
      "    print \"You earned a C!\"\n",
      "else:\n",
      "    print \"Try again next time.\"\n"
     ],
     "language": "python",
     "metadata": {},
     "outputs": [
      {
       "output_type": "stream",
       "stream": "stdout",
       "text": [
        "You earned a C!\n"
       ]
      }
     ],
     "prompt_number": 8
    },
    {
     "cell_type": "code",
     "collapsed": false,
     "input": [
      "#Example 2 - Who's who? What will this print?\n",
      "\n",
      "name = raw_input(\"What's your name?\")\n",
      "\n",
      "def WhoAreYou(name):\n",
      "    if name == \"Jenkins\":\n",
      "        print \"You're the CS teacher!\"\n",
      "    elif name == \"Ferrell\":\n",
      "        print \"You're the music teacher!\"\n",
      "    else:\n",
      "        print \"You're a student!\"\n",
      "        \n",
      "WhoAreYou(name)"
     ],
     "language": "python",
     "metadata": {},
     "outputs": [
      {
       "name": "stdout",
       "output_type": "stream",
       "stream": "stdout",
       "text": [
        "What's your name?Ferrell\n"
       ]
      },
      {
       "output_type": "stream",
       "stream": "stdout",
       "text": [
        "You're the music teacher!\n"
       ]
      }
     ],
     "prompt_number": 7
    },
    {
     "cell_type": "heading",
     "level": 4,
     "metadata": {},
     "source": [
      "Fermat's Last Theorem:"
     ]
    },
    {
     "cell_type": "markdown",
     "metadata": {},
     "source": [
      "Fermat\u2019s Last Theorem says that there are no integers a, b, and c such that $a^n + b^n = c^n$ for any values of n greater than 2.\n",
      "\n",
      "Write a function named check_fermat that takes four parameters\u2014a, b, c and n\u2014and that checks to see if Fermat's theorem holds.\n",
      "\n",
      "If n is greater than 2 and it turns out to be true that $a^n + b^n = c^n$, the program should print, \u201cHoly smokes, Fermat was wrong!\u201d Otherwise the program should print, \u201cNo, that doesn\u2019t work.\u201d.\n",
      "\n",
      "Write a function that prompts the user to input values for a, b, c and n, converts them to integers, and uses check_fermat to check whether they violate Fermat\u2019s theorem.\n"
     ]
    },
    {
     "cell_type": "heading",
     "level": 4,
     "metadata": {},
     "source": [
      "Is this a triangle?"
     ]
    },
    {
     "cell_type": "markdown",
     "metadata": {},
     "source": [
      "If you are given three sticks, you may or may not be able to arrange them in a triangle. For example, if one of the sticks is 12 inches long and the other two are one inch long, it is clear that you will not be able to get the short sticks to meet in the middle. For any three lengths, there is a simple test to see if it is possible to form a triangle: If any of the three lengths is greater than the sum of the other two, then you cannot form a triangle. Otherwise, you can. (If the sum of two lengths equals the third, they form what is called a \u201cdegenerate\u201d triangle.)"
     ]
    },
    {
     "cell_type": "markdown",
     "metadata": {},
     "source": [
      "1. Write a function named is_triangle that takes three integers as arguments, and that prints\n",
      "either \u201cYes\u201d or \u201cNo,\u201d depending on whether you can or cannot form a triangle from sticks\n",
      "with the given lengths."
     ]
    },
    {
     "cell_type": "markdown",
     "metadata": {},
     "source": [
      "CHALLENGE: Write a function that prompts the user to input three stick lengths, converts them to integers,\n",
      "and uses is_triangle to check whether sticks with the given lengths can form a triangle."
     ]
    },
    {
     "cell_type": "code",
     "collapsed": false,
     "input": [],
     "language": "python",
     "metadata": {},
     "outputs": []
    }
   ],
   "metadata": {}
  }
 ]
}