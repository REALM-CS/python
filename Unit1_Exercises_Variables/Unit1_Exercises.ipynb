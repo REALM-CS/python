{
 "metadata": {
  "celltoolbar": "Slideshow",
  "name": "",
  "signature": "sha256:822f4e4fe59156bf9b497915baa198d3f4098537061c651c37b26989f5013d8c"
 },
 "nbformat": 3,
 "nbformat_minor": 0,
 "worksheets": [
  {
   "cells": [
    {
     "cell_type": "heading",
     "level": 1,
     "metadata": {},
     "source": [
      "Unit 1: Exercises"
     ]
    },
    {
     "cell_type": "markdown",
     "metadata": {},
     "source": [
      "*These exercises are informed by Think Python, by Allen Downey; Eric Matthes's course available at http://www.introtopython.org/; and the work done by Erica Greene, Brian Papa, Amy Ciavolino and Mike Pascual at the NYC iSchool during the 2013-14 school year (https://github.com/NYCiSchoolCS/think-python).*"
     ]
    },
    {
     "cell_type": "heading",
     "level": 2,
     "metadata": {},
     "source": [
      "1. Hello, World!"
     ]
    },
    {
     "cell_type": "code",
     "collapsed": false,
     "input": [
      "print 'hello, world!'"
     ],
     "language": "python",
     "metadata": {},
     "outputs": [
      {
       "output_type": "stream",
       "stream": "stdout",
       "text": [
        "hello, world!\n"
       ]
      }
     ],
     "prompt_number": 8
    },
    {
     "cell_type": "heading",
     "level": 2,
     "metadata": {},
     "source": [
      "2. Python as calculator"
     ]
    },
    {
     "cell_type": "markdown",
     "metadata": {},
     "source": [
      "Start the Python interpreter and use it as a calculator. Python\u2019s syntax for math\n",
      "operations is almost the same as standard mathematical notation. For example, the symbols\n",
      "+, -, / and * denote addition, subtraction, division and multiplication. Try these:\n"
     ]
    },
    {
     "cell_type": "code",
     "collapsed": false,
     "input": [
      "print 4+5\n",
      "print 20/5\n",
      "print 5*10/2\n",
      "print '20+5'\n",
      "print 10/3\n"
     ],
     "language": "python",
     "metadata": {},
     "outputs": []
    },
    {
     "cell_type": "heading",
     "level": 2,
     "metadata": {},
     "source": [
      "2a. Calculator challenges: "
     ]
    },
    {
     "cell_type": "markdown",
     "metadata": {},
     "source": [
      "1. How do you calculate exponents in Python? Google it, and try to calculate 817 to the 8th power.\n",
      "2. This class meets for 1 hour a day, and we meet for approximately 20 weeks. Using Python, how many hours will this class meet in total?\n",
      "3. Why doesn't '20+5' above print 25?\n",
      "4. Why is the answer to 10/3 wrong?\n",
      "5. Learn how to use the raw_input() function to ask users for information - see below."
     ]
    },
    {
     "cell_type": "code",
     "collapsed": false,
     "input": [
      "# Ask a user to input information like this:\n",
      "\n",
      "age = raw_input('How old are you?')\n",
      "print 'You are ' + age + \" years old!\""
     ],
     "language": "python",
     "metadata": {},
     "outputs": [
      {
       "name": "stdout",
       "output_type": "stream",
       "stream": "stdout",
       "text": [
        "How old are you?16\n"
       ]
      },
      {
       "output_type": "stream",
       "stream": "stdout",
       "text": [
        "You are 16 years old!\n"
       ]
      }
     ],
     "prompt_number": 6
    },
    {
     "cell_type": "heading",
     "level": 2,
     "metadata": {},
     "source": [
      "3. Variables"
     ]
    },
    {
     "cell_type": "markdown",
     "metadata": {},
     "source": [
      "A variable holds a value."
     ]
    },
    {
     "cell_type": "code",
     "collapsed": false,
     "input": [
      "name = 'jenkins'\n",
      "print(name)"
     ],
     "language": "python",
     "metadata": {},
     "outputs": [
      {
       "output_type": "stream",
       "stream": "stdout",
       "text": [
        "jenkins\n"
       ]
      }
     ],
     "prompt_number": 19
    },
    {
     "cell_type": "markdown",
     "metadata": {},
     "source": [
      "That value can change, even if the name of the variable stays the same:"
     ]
    },
    {
     "cell_type": "code",
     "collapsed": false,
     "input": [
      "name = 'jenkins'\n",
      "print(name)\n",
      "name = 'REALM'\n",
      "print (name)"
     ],
     "language": "python",
     "metadata": {},
     "outputs": [
      {
       "output_type": "stream",
       "stream": "stdout",
       "text": [
        "jenkins\n",
        "REALM\n"
       ]
      }
     ],
     "prompt_number": 18
    },
    {
     "cell_type": "code",
     "collapsed": false,
     "input": [
      "# We can also do mathematical operations with our variables:\n",
      "\n",
      "my_age = 4\n",
      "your_age = 6\n",
      "\n",
      "our_age = my_age + your_age\n",
      "\n",
      "print our_age"
     ],
     "language": "python",
     "metadata": {},
     "outputs": [
      {
       "output_type": "stream",
       "stream": "stdout",
       "text": [
        "10\n"
       ]
      }
     ],
     "prompt_number": 33
    },
    {
     "cell_type": "heading",
     "level": 2,
     "metadata": {},
     "source": [
      "3a. Variable challenges"
     ]
    },
    {
     "cell_type": "markdown",
     "metadata": {},
     "source": [
      "Refer to the Variable lesson for tips on how to name variables, and why spelling counts.\n",
      "* Create a variable called **greeting** and use it to store your own greeting - then, print it!\n",
      "* Create a variable called **greeting** and use it to store a different greeting than above - then, print it.\n",
      "* Create a variable to store someone's phone number, then print it.\n",
      "* Create a variable to store someone's phone number, and then use raw_input to ask them for their phone number. (*See the example under 2a.*) Print the phone number.\n",
      "* My grandmother's age is four times your user's age. First ask your user for their age, and store this information in a variable. Then, multiply this variable by four to determine how old my grandmother is. Print her age."
     ]
    },
    {
     "cell_type": "heading",
     "level": 2,
     "metadata": {},
     "source": [
      "4. String concatenation"
     ]
    },
    {
     "cell_type": "code",
     "collapsed": false,
     "input": [
      "first_name = 'Christina'\n",
      "last_name = 'Jenkins'\n",
      "print first_name + last_name"
     ],
     "language": "python",
     "metadata": {},
     "outputs": [
      {
       "output_type": "stream",
       "stream": "stdout",
       "text": [
        "ChristinaJenkins\n"
       ]
      }
     ],
     "prompt_number": 34
    },
    {
     "cell_type": "code",
     "collapsed": false,
     "input": [
      "print first_name + first_name + first_name\n",
      "print first_name*3\n",
      "\n",
      "# This one runs an error. Why?\n",
      "print first_name + 4"
     ],
     "language": "python",
     "metadata": {},
     "outputs": []
    },
    {
     "cell_type": "heading",
     "level": 2,
     "metadata": {},
     "source": [
      "4a. String concatenation challenges"
     ]
    },
    {
     "cell_type": "markdown",
     "metadata": {},
     "source": [
      "1. Print the word **breakfast** by joining two different variables together. (See the ChristinaJenkins example above.)\n",
      "2. Print the word **spam** 3802 times.\n",
      "3. If width = 12, what is width/2? What is width/2.0?\n",
      "4. Using a variable for age, print the sentence \"My great-uncle is 124 years old.\" Make sure your spacing is correct!\n",
      "5. Ask a user for their first and last names, and store these in separate variables. Print the user's first and last name with a space in between."
     ]
    },
    {
     "cell_type": "heading",
     "level": 2,
     "metadata": {},
     "source": [
      "5. Values and Types"
     ]
    },
    {
     "cell_type": "markdown",
     "metadata": {},
     "source": [
      "If you're not sure what \"type\" a value is, you can use the function type( ) to figure it out. Run the examples below to see what we mean:"
     ]
    },
    {
     "cell_type": "code",
     "collapsed": false,
     "input": [
      "print type(2)\n",
      "print type('hello world')\n",
      "print type(2.0)"
     ],
     "language": "python",
     "metadata": {},
     "outputs": []
    },
    {
     "cell_type": "code",
     "collapsed": false,
     "input": [
      "# What about these? Try:\n",
      "\n",
      "print type('17')\n",
      "print type('3.2')\n",
      "print type(hello world)\n",
      "\n",
      "# What's going on here? "
     ],
     "language": "python",
     "metadata": {},
     "outputs": []
    },
    {
     "cell_type": "heading",
     "level": 2,
     "metadata": {},
     "source": [
      "6. Variables, string concatenation and calculator challenges, combined"
     ]
    },
    {
     "cell_type": "markdown",
     "metadata": {},
     "source": [
      "Make your output and questions look as close to the examples as you can!\n",
      "\n",
      "## Hourly Wages\n",
      "* Ask the user how much they make an hour, and how many hours they work per week.\n",
      "* Print how much they will make in a week\n",
      "* Print how much they will make in a month.\n",
      "\n",
      "Sample output:\n",
      "```\n",
      "How much do you make an hour? 10\n",
      "How many hours do you work a week? 6\n",
      "You will make $60 a week.\n",
      "You will make $240 a month.\n",
      "```\n",
      "\n",
      "## Bus Trips\n",
      "* Ask the user how many times they take the bus on week days and on weekend days.\n",
      "* Print how much those tips cost per week.\n",
      "(Assume a bus ride is $1.05)\n",
      "\n",
      "Sample output:\n",
      "```\n",
      "How many times do you take the bus each week day? 2\n",
      "How many times do you take the bus each weekend day? 3\n",
      "The bus costs you $16.3 each week.\n",
      "```\n",
      "\n",
      "## Age Calculator\n",
      "* Ask the user for their name, and age. Print \"______ is ___ years old right now.\"\n",
      "* Caculate how old they will be next year. Print \"______ will be ___ years old next year.\"\n",
      "* Caculate the year they were born in. Print \"______ was born in ____.\"\n",
      "* Caculate the year they will be 100. Print \"In the year ____, ______ will be 100 years old\"\n",
      "* Ask the user for a year. Print the age they will be that year. \"______ will be ___ years old in ____\"\n",
      "\n",
      "Sample output:\n",
      "```\n",
      "What's your name? Tom\n",
      "How old are you? 99\n",
      "Tom is 99 years old right now.\n",
      "Tom will be 100 years old next year.\n",
      "Tom was born in 1915.\n",
      "In the year 2015, Tom will be 100 years old.\n",
      "Pick a year to check Tom's age: 2031\n",
      "Tom will be 116 years old in 2031.\n",
      "```\n",
      "\n",
      "## Class Groups\n",
      "* Ask the user how many students are in the class and what size groups to make. Print how many groups of that size there would be.\n",
      "\n",
      "Sample output:\n",
      "```\n",
      "How many students are in class today? 8\n",
      "How many students should be in each group? 2\n",
      "There will be 4 groups of 2 students each.\n",
      "```\n",
      "* Print how many students will not fit into even groups. (Hint: Use the modulus operator %)\n",
      "\n",
      "Sample output:\n",
      "```\n",
      "How many students are in class today? 10\n",
      "How many students should be in each group? 3\n",
      "There will be 3 groups of 3 students each.\n",
      "There will be 1 studnets left over.\n",
      "```\n",
      "\n",
      "## How many will fit?\n",
      "* Ask the user for the length, width, and hight of a box. Print the volume of the box.\n",
      "* Ask the user for the length, width, and hight of items to put in the box. Print the volume of the item.\n",
      "* Print how many of the item you can fix in the box.\n",
      "Sample output:\n",
      "```\n",
      "Enter the size of your box in inches\n",
      "length: 2\n",
      "width: 2\n",
      "height: 4\n",
      "The volume is 16 cubic inches.\n",
      "Enter the size of your items in inches\n",
      "length: 2\n",
      "width: 1\n",
      "height: 1\n",
      "The volume of each item is 2 cubic inches.\n",
      "You can fit 8 items in your box.\n",
      "```\n",
      "\n",
      "## Bill calculator\n",
      "* Ask the user for the total bill amount, and the number of people eating. Print the amount each person should pay, assuming the bill is split evenly. Use the format \"Each of the ___ people eating should pay $___.\"\n",
      "* Calculate a 10%, 15%, and 20% tip and print those amounts. Use the format in the example below.\n",
      "* Ask the user for a tip amount and print how much they should pay to tip that much.\n",
      "\n",
      "Sample output:\n",
      "```\n",
      "How much is the bill? 50\n",
      "How many people were eating? 5\n",
      "Each of the 5 people eating should pay $10.\n",
      "10% tip: $1 ($11 total)\n",
      "15% tip: $1.5 ($11.5 total)\n",
      "20% tip: $20 ($12 total)\n",
      "What percent would you like to tip? 12\n",
      "You should pay $11.2\n",
      "```\n",
      "\n",
      "## Square Printer\n",
      "\n",
      "Print out the following diagram using the the fewest \"#\" as possible in your code. You can use variables and string operations.\n",
      "\n",
      "\n",
      "```\n",
      "##################################\n",
      "#          #          #          #\n",
      "#          #          #          #\n",
      "#          #          #          #\n",
      "#          #          #          #\n",
      "#          #          #          #\n",
      "##################################\n",
      "#          #          #          #\n",
      "#          #          #          #\n",
      "#          #          #          #\n",
      "#          #          #          #\n",
      "#          #          #          #\n",
      "##################################\n",
      "```\n",
      "\n",
      "*Thanks to Erica, Brian, Mike and Amy with TEALS for these exercises.*"
     ]
    },
    {
     "cell_type": "markdown",
     "metadata": {
      "slideshow": {
       "slide_type": "-"
      }
     },
     "source": []
    },
    {
     "cell_type": "code",
     "collapsed": false,
     "input": [],
     "language": "python",
     "metadata": {},
     "outputs": []
    }
   ],
   "metadata": {}
  }
 ]
}