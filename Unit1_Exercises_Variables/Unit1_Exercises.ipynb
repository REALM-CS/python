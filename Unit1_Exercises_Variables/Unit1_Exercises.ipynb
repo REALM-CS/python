{
 "metadata": {
  "celltoolbar": "Slideshow",
  "name": "",
  "signature": "sha256:956566b70996651b5f84940591d25b74393ddbe2ed6164718504361a9239ab94"
 },
 "nbformat": 3,
 "nbformat_minor": 0,
 "worksheets": [
  {
   "cells": [
    {
     "cell_type": "heading",
     "level": 1,
     "metadata": {},
     "source": [
      "Unit 1: Exercises"
     ]
    },
    {
     "cell_type": "markdown",
     "metadata": {},
     "source": [
      "*These exercises are informed by Think Python, by Allen Downey; Eric Matthes's course available at http://www.introtopython.org/; and the work done by Erica Greene, Brian Papa, Amy Ciavolino and Mike Pascual at the NYC iSchool during the 2013-14 school year (https://github.com/NYCiSchoolCS/think-python).*"
     ]
    },
    {
     "cell_type": "heading",
     "level": 2,
     "metadata": {},
     "source": [
      "1. Hello, World!"
     ]
    },
    {
     "cell_type": "code",
     "collapsed": false,
     "input": [
      "print 'hello, world!'"
     ],
     "language": "python",
     "metadata": {},
     "outputs": [
      {
       "output_type": "stream",
       "stream": "stdout",
       "text": [
        "hello, world!\n"
       ]
      }
     ],
     "prompt_number": 8
    },
    {
     "cell_type": "heading",
     "level": 2,
     "metadata": {},
     "source": [
      "2. Python as calculator"
     ]
    },
    {
     "cell_type": "markdown",
     "metadata": {},
     "source": [
      "Start the Python interpreter and use it as a calculator. Python\u2019s syntax for math\n",
      "operations is almost the same as standard mathematical notation. For example, the symbols\n",
      "+, -, / and * denote addition, subtraction, division and multiplication. Try these:\n"
     ]
    },
    {
     "cell_type": "code",
     "collapsed": false,
     "input": [
      "print 4+5\n",
      "print 20/5\n",
      "print 5*10/2\n",
      "print '20+5'\n",
      "print 10/3\n"
     ],
     "language": "python",
     "metadata": {},
     "outputs": []
    },
    {
     "cell_type": "heading",
     "level": 2,
     "metadata": {},
     "source": [
      "2a. Calculator challenges: "
     ]
    },
    {
     "cell_type": "markdown",
     "metadata": {},
     "source": [
      "1. How do you calculate exponents in Python? Google it, and try to calculate 817 to the 8th power.\n",
      "2. This class meets for 1 hour a day, and we meet for approximately 20 weeks. Using Python, how many hours will this class meet in total?\n",
      "3. Why doesn't '20+5' above print 25?\n",
      "4. Why is the answer to 10/3 wrong?\n",
      "5. Learn how to use the raw_input() function to ask users for information - see below."
     ]
    },
    {
     "cell_type": "code",
     "collapsed": false,
     "input": [
      "# Ask a user to input information like this:\n",
      "\n",
      "age = raw_input('How old are you?')\n",
      "print 'You are ' + age + \" years old!\""
     ],
     "language": "python",
     "metadata": {},
     "outputs": [
      {
       "name": "stdout",
       "output_type": "stream",
       "stream": "stdout",
       "text": [
        "How old are you?16\n"
       ]
      },
      {
       "output_type": "stream",
       "stream": "stdout",
       "text": [
        "You are 16 years old!\n"
       ]
      }
     ],
     "prompt_number": 6
    },
    {
     "cell_type": "heading",
     "level": 2,
     "metadata": {},
     "source": [
      "3. Variables"
     ]
    },
    {
     "cell_type": "markdown",
     "metadata": {},
     "source": [
      "A variable holds a value."
     ]
    },
    {
     "cell_type": "code",
     "collapsed": false,
     "input": [
      "name = 'jenkins'\n",
      "print(name)"
     ],
     "language": "python",
     "metadata": {},
     "outputs": [
      {
       "output_type": "stream",
       "stream": "stdout",
       "text": [
        "jenkins\n"
       ]
      }
     ],
     "prompt_number": 19
    },
    {
     "cell_type": "markdown",
     "metadata": {},
     "source": [
      "That value can change, even if the name of the variable stays the same:"
     ]
    },
    {
     "cell_type": "code",
     "collapsed": false,
     "input": [
      "name = 'jenkins'\n",
      "print(name)\n",
      "name = 'REALM'\n",
      "print (name)"
     ],
     "language": "python",
     "metadata": {},
     "outputs": [
      {
       "output_type": "stream",
       "stream": "stdout",
       "text": [
        "jenkins\n",
        "REALM\n"
       ]
      }
     ],
     "prompt_number": 18
    },
    {
     "cell_type": "code",
     "collapsed": false,
     "input": [
      "# We can also do mathematical operations with our variables:\n",
      "\n",
      "my_age = 4\n",
      "your_age = 6\n",
      "\n",
      "our_age = my_age + your_age\n",
      "\n",
      "print our_age"
     ],
     "language": "python",
     "metadata": {},
     "outputs": [
      {
       "output_type": "stream",
       "stream": "stdout",
       "text": [
        "10\n"
       ]
      }
     ],
     "prompt_number": 33
    },
    {
     "cell_type": "heading",
     "level": 2,
     "metadata": {},
     "source": [
      "3a. Variable challenges"
     ]
    },
    {
     "cell_type": "markdown",
     "metadata": {},
     "source": [
      "Refer to the Variable lesson for tips on how to name variables, and why spelling counts.\n",
      "* Create a variable called **greeting** and use it to store your own greeting - then, print it!\n",
      "* Create a variable called **greeting** and use it to store a different greeting than above - then, print it.\n",
      "* Create a variable to store someone's phone number, then print it.\n",
      "* Create a variable to store someone's phone number, and then use raw_input to ask them for their phone number. (*See the example under 2a.*) Print the phone number.\n",
      "* My grandmother's age is four times your user's age. First ask your user for their age, and store this information in a variable. Then, multiply this variable by four to determine how old my grandmother is. Print her age."
     ]
    },
    {
     "cell_type": "heading",
     "level": 2,
     "metadata": {},
     "source": [
      "4. String concatenation"
     ]
    },
    {
     "cell_type": "code",
     "collapsed": false,
     "input": [
      "first_name = 'Christina'\n",
      "last_name = 'Jenkins'\n",
      "print first_name + last_name"
     ],
     "language": "python",
     "metadata": {},
     "outputs": [
      {
       "output_type": "stream",
       "stream": "stdout",
       "text": [
        "ChristinaJenkins\n"
       ]
      }
     ],
     "prompt_number": 34
    },
    {
     "cell_type": "code",
     "collapsed": false,
     "input": [
      "print first_name + first_name + first_name\n",
      "print first_name*3\n",
      "\n",
      "# This one runs an error. Why?\n",
      "print first_name + 4"
     ],
     "language": "python",
     "metadata": {},
     "outputs": []
    },
    {
     "cell_type": "heading",
     "level": 2,
     "metadata": {},
     "source": [
      "4a. String concatenation challenges"
     ]
    },
    {
     "cell_type": "markdown",
     "metadata": {},
     "source": [
      "1. Print the word **breakfast** by joining two different variables together. (See the ChristinaJenkins example above.)\n",
      "2. Print the word **spam** 3802 times.\n",
      "3. If width = 12, what is width/2? What is width/2.0?\n",
      "4. Using a variable for age, print the sentence \"My great-uncle is 124 years old.\" Make sure your spacing is correct!\n",
      "5. Ask a user for their first and last names, and store these in separate variables. Print the user's first and last name with a space in between."
     ]
    },
    {
     "cell_type": "heading",
     "level": 2,
     "metadata": {},
     "source": [
      "5. Values and Types"
     ]
    },
    {
     "cell_type": "markdown",
     "metadata": {},
     "source": [
      "If you're not sure what \"type\" a value is, you can use the function type( ) to figure it out. Run the examples below to see what we mean:"
     ]
    },
    {
     "cell_type": "code",
     "collapsed": false,
     "input": [
      "print type(2)\n",
      "print type('hello world')\n",
      "print type(2.0)"
     ],
     "language": "python",
     "metadata": {},
     "outputs": []
    },
    {
     "cell_type": "code",
     "collapsed": false,
     "input": [
      "# What about these? Try:\n",
      "\n",
      "print type('17')\n",
      "print type('3.2')\n",
      "print type(hello world)\n",
      "\n",
      "# What's going on here? "
     ],
     "language": "python",
     "metadata": {},
     "outputs": []
    },
    {
     "cell_type": "code",
     "collapsed": false,
     "input": [],
     "language": "python",
     "metadata": {},
     "outputs": []
    }
   ],
   "metadata": {}
  }
 ]
}