{
 "metadata": {
  "name": "",
  "signature": "sha256:fb567ce281ada4003ffd9e79769e8a7a10369825f501e16d31157817ab1195a1"
 },
 "nbformat": 3,
 "nbformat_minor": 0,
 "worksheets": [
  {
   "cells": [
    {
     "cell_type": "heading",
     "level": 3,
     "metadata": {},
     "source": [
      "Intro to Python Final Exam - June 2015"
     ]
    },
    {
     "cell_type": "markdown",
     "metadata": {},
     "source": [
      "**( 1a.)** Write a function that takes a string named s as a parameter and prints the string with enough leading spaces so that the last letter of the string is in column 70 of the display screen. **10 points** The output should look like this:"
     ]
    },
    {
     "cell_type": "code",
     "collapsed": false,
     "input": [
      "right_justify('cheese')\n"
     ],
     "language": "python",
     "metadata": {},
     "outputs": [
      {
       "output_type": "stream",
       "stream": "stdout",
       "text": [
        "                                                                cheese\n"
       ]
      }
     ],
     "prompt_number": 6
    },
    {
     "cell_type": "markdown",
     "metadata": {},
     "source": [
      "> Part Two: Next, write a function named center_justify that does the same thing, but centers the string in a column 70 display. **5 points**\n"
     ]
    },
    {
     "cell_type": "markdown",
     "metadata": {},
     "source": [
      "**( 2. )** Write a program that adds all of the even numbers from 2 to 272 with the exception of 180 and 202. **15 points**"
     ]
    },
    {
     "cell_type": "markdown",
     "metadata": {},
     "source": [
      "**( 3. )** Write a \"game\" called Guess the Number. The program should randomly generate a number unknown to the user. The user needs to guess what that number is. If the user\u2019s guess is wrong, the program should report that the guess is too high or too low. If the user guesses correctly, the program should tell the user they are correct. **25 points**\n",
      "\n",
      "> As a bonus, allow the user to only guess five times before the \u201cgame\u201d ends. **10 points**\n"
     ]
    },
    {
     "cell_type": "markdown",
     "metadata": {},
     "source": [
      "**( 4. ) ** Write a reverse Pig Latin program. Remember the rules of Pig Latin: A word that begins with a consonant will be written like \"onsonant + c + ay\" and a word that begins with a vowel will be written like \"eagle + way.\" Your program should be able to translate this phrase back into English using a reverse Pig Latin program: **\"omputerCay cienceSay isway ymay avoritefay assclay, ymay ittlelay uaggasqay!\"** / **40 points**"
     ]
    },
    {
     "cell_type": "markdown",
     "metadata": {},
     "source": [
      "**( 5. )** Project Euler is a collection of programming challenges that explore mathematical concepts, from prime numbers to geometry. There are over 400 problems ranked more or less by difficulty. You choose a problem, implement a solution, and once you have an answer to the question, you submit it for verification. If you\u2019re correct, you can then look at other people\u2019s solutions and participate in the forum on that problem.** Work on problem 14 (https://projecteuler.net/problem=14) and 47 (https://projecteuler.net/problem=47) for 100 points.**"
     ]
    },
    {
     "cell_type": "heading",
     "level": 3,
     "metadata": {},
     "source": [
      "For the Crew!"
     ]
    },
    {
     "cell_type": "markdown",
     "metadata": {},
     "source": [
      "**(1.)** Write a currency converter. As of Wednesday, 1 Mexican Peso = 0.064 US Dollar. Write a currency converter that asks the user how many Mexican Pesos they have, and the program should return the amount of US Dollars their money is worth. For example, your program should be able to print \"350 Mexican Pesos is $22.52 US Dollars.\" **25 points**"
     ]
    },
    {
     "cell_type": "markdown",
     "metadata": {},
     "source": [
      "**( 2. )** Write a function called Temperature_Converter. This function will convert a temperature in Fahrenheit to a temperature in Celcius. For example, 32 degrees Fahrenheit (freezing) is 0 degrees Celcius. The formula is Celcius = (Fahrenheit-32)*(5/9). *The function should ask a user for a temperature in Fahrenheit, and should print a temperature in Celcius. **25 points**\n"
     ]
    },
    {
     "cell_type": "markdown",
     "metadata": {},
     "source": [
      "**( 3. )** Write a program that creates a MadLibs story. MadLibs is a funny story that is made up of random words that don't really go together. To begin, write a short story that uses a place, a adjective, and a noun. (For example, *\"When Ms. Lovelace went to PLACE, she picked up a ADJECTIVE NOUN and screamed - she had never seen anything like that before!* Ask your user to give you these words. Your program should replace PLACE, ADJECTIVE and NOUN with the words your user has given you. **25 points**"
     ]
    },
    {
     "cell_type": "markdown",
     "metadata": {},
     "source": [
      "**( 4.)** Write a function that takes a string named s as a parameter and prints the string with enough leading spaces so that the last letter of the string is in column 70 of the display screen. **25 points** The output should look like this:"
     ]
    },
    {
     "cell_type": "code",
     "collapsed": false,
     "input": [
      "right_justify('cheese')\n"
     ],
     "language": "python",
     "metadata": {},
     "outputs": [
      {
       "output_type": "stream",
       "stream": "stdout",
       "text": [
        "                                                                cheese\n"
       ]
      }
     ],
     "prompt_number": 6
    }
   ],
   "metadata": {}
  }
 ]
}