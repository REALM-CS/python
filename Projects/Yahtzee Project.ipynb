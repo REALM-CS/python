{
 "metadata": {
  "name": "",
  "signature": "sha256:4c6ed74376c507e22c915ae49603860d52c21f127bbde0467963cb7ba068a013"
 },
 "nbformat": 3,
 "nbformat_minor": 0,
 "worksheets": [
  {
   "cells": [
    {
     "cell_type": "markdown",
     "metadata": {},
     "source": [
      "# Yahtzee Project\n",
      "\n",
      "## The Rules\n",
      "The object of the game is to score the most points by rolling five dice to make certain combinations. The dice can be rolled up to three times in a turn to try to make one of the thirteen possible scoring combinations.\n",
      "\n",
      "The scoring combinations have varying point values, some of which are fixed values and others of which have the cumulative value of the dice. A Yahtzee is five-of-a-kind and holds the game's highest point value of 50. (*taken from Wikipedia*).\n",
      "\n",
      "For all rules, see the official instructions [here](http://www.hasbro.com/common/instruct/Yahtzee.pdf)\n",
      "\n",
      "## Instructions\n",
      "You will begin with [this starter code](https://github.com/NYCiSchoolCS/think-python/blob/master/Projects/Yahtzee.py) for implementing scoring in Yahtzee. The roll_dice function simulates one roll and the values of the five dice are stored in the variables d1, d2, d3, d4 and d5.\n",
      "\n",
      "Your job is the fill in the ten scoring functions. The starter code includes the definitions and documentation for the functions, but it's your job to fill them in.\n",
      "\n",
      "**1. Implement all the scoring functions in Yahtzee.py. (70 pts)**\n",
      "\n",
      "You will noticed that the code for ones_score, twos_score, etc. is very similar. Do this first. But, it is always a bad idea to have duplicate code in a program, so your second task is to find a way to simplify the implementation of those functions.\n",
      "\n",
      "\n",
      "\n",
      "**2. Write a new function called n_score that combines the functionality of ones_score, twos_score, etc. The n_score function should take d1 through d5 as parameters as well as an integer n. Comment out your old ones_score, twos_score, etc. and rewrite them using n_score. (20 pts)**\n",
      "\n",
      "While the code so far implements some of the functionality of Yahtzee, there are still more to do before it feels like the real game. Your final task is to implement one of the following extra features.\n",
      "     \n",
      "     \n",
      "\n",
      "**3. Implement at least one extra feature from the following list (10 pts):**\n",
      "   - Tell the user what combination would result in the max score. You can use the built in Python function max(x,y,z,..) which takes one of more numbers and returns the number with the greatest value.\n",
      "   - Extend the game to two players. The program should ask each player for his or her name and then print out the results of score_roll for each player.\n",
      "   - Add multiple turns for each player. At each round, the program should tell the player what their current score is.\n",
      "   - Allow players to choose which combination they want to use at each turns.\n",
      "   \n",
      "## Rubric\n",
      "\n",
      "- You have clear and accurate implementions of the following functions:\n"
     ]
    },
    {
     "cell_type": "markdown",
     "metadata": {},
     "source": [
      "\n",
      "    | function           | points        |\n",
      "    | -------------      |:-------------:|\n",
      "    |    ones_score      | 5 pts         |\n",
      "    |    twos_score      | 5 pts         |\n",
      "    | threes_score       | 5 pts         |\n",
      "    | fours_score        | 5 pts         |\n",
      "    | fives_score        | 5 pts         |\n",
      "    | sixes_score        | 5 pts         |\n",
      "    | four_of_a_kind_score | 10 pts      |\n",
      "    | five_of_a_kind_score | 10 pts      |\n",
      "    | large_straight     | 10 pts        |\n",
      "    | chance_score       | 10 pts        |\n",
      "    | n_score and re-write | 20 pts      |\n",
      "    | one extra feature  | 10 pts        |\n"
     ]
    },
    {
     "cell_type": "markdown",
     "metadata": {},
     "source": [
      "- This project was originally developed by Amy Ciavolino and Erica Greene for TEALS in the Spring of 2014."
     ]
    },
    {
     "cell_type": "code",
     "collapsed": false,
     "input": [],
     "language": "python",
     "metadata": {},
     "outputs": []
    }
   ],
   "metadata": {}
  }
 ]
}