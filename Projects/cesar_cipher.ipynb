{
 "metadata": {
  "name": "",
  "signature": "sha256:ac9af658837dd46d2708b468871818d509e91b6127fcbc07e7317f16c33b5420"
 },
 "nbformat": 3,
 "nbformat_minor": 0,
 "worksheets": [
  {
   "cells": [
    {
     "cell_type": "heading",
     "level": 2,
     "metadata": {},
     "source": [
      "Two functions are very useful for you: chr() and ord(). "
     ]
    },
    {
     "cell_type": "heading",
     "level": 4,
     "metadata": {},
     "source": [
      "chr() is a function that takes an ASCII integer (like 65) and returns a letter (or character) like 'A'."
     ]
    },
    {
     "cell_type": "heading",
     "level": 4,
     "metadata": {},
     "source": [
      "ord() is a function that takes a character like 'A' and returns an ASCII integer (like 65)."
     ]
    },
    {
     "cell_type": "code",
     "collapsed": false,
     "input": [
      "print chr(65)"
     ],
     "language": "python",
     "metadata": {},
     "outputs": [
      {
       "output_type": "stream",
       "stream": "stdout",
       "text": [
        "A\n"
       ]
      }
     ],
     "prompt_number": 3
    },
    {
     "cell_type": "code",
     "collapsed": false,
     "input": [
      "print ord(\"A\")"
     ],
     "language": "python",
     "metadata": {},
     "outputs": [
      {
       "output_type": "stream",
       "stream": "stdout",
       "text": [
        "65\n"
       ]
      }
     ],
     "prompt_number": 5
    },
    {
     "cell_type": "heading",
     "level": 2,
     "metadata": {},
     "source": [
      "Practice problem sets!"
     ]
    },
    {
     "cell_type": "markdown",
     "metadata": {},
     "source": [
      "1. Write a program that asks a user for a letter, like A. The program should print the ASCII number that corresponds with that letter."
     ]
    },
    {
     "cell_type": "code",
     "collapsed": false,
     "input": [
      "#Sample output below\n"
     ],
     "language": "python",
     "metadata": {},
     "outputs": [
      {
       "name": "stdout",
       "output_type": "stream",
       "stream": "stdout",
       "text": [
        "Give me a letter A\n"
       ]
      },
      {
       "output_type": "stream",
       "stream": "stdout",
       "text": [
        "65\n"
       ]
      }
     ],
     "prompt_number": 8
    },
    {
     "cell_type": "markdown",
     "metadata": {},
     "source": [
      "2. Write a program that asks a user for a word, like Jenkins. The program should print the sum of all of the ASCII numbers in that word."
     ]
    },
    {
     "cell_type": "code",
     "collapsed": false,
     "input": [
      "#Sample output below\n",
      "\n",
      "name = \"Freddie Gray\"\n",
      "#Your code goes here"
     ],
     "language": "python",
     "metadata": {},
     "outputs": [
      {
       "output_type": "stream",
       "stream": "stdout",
       "text": [
        "1126\n"
       ]
      }
     ],
     "prompt_number": 9
    },
    {
     "cell_type": "markdown",
     "metadata": {},
     "source": [
      "1. Write a program that asks a user for a letter, like C. Use chr() and ord() and a key of +3 to print the encrypted letter. For example, if the user gives \"C\", the program should print \"F.\""
     ]
    },
    {
     "cell_type": "code",
     "collapsed": false,
     "input": [
      "#Sample output below\n",
      "\n",
      "key = 3\n",
      "# Your code goes here"
     ],
     "language": "python",
     "metadata": {},
     "outputs": [
      {
       "output_type": "stream",
       "stream": "stdout",
       "text": [
        "F\n"
       ]
      }
     ],
     "prompt_number": 10
    },
    {
     "cell_type": "heading",
     "level": 2,
     "metadata": {},
     "source": [
      "Writing a Caesar Cipher program:"
     ]
    },
    {
     "cell_type": "heading",
     "level": 4,
     "metadata": {},
     "source": [
      "Part 1 (most important): "
     ]
    },
    {
     "cell_type": "markdown",
     "metadata": {},
     "source": [
      "Building off of the code you wrote for the exercise directly above, write a program that will return a single encrypted word. The program should ask the user for a key (for example: 3) and for a single lowercase word, and should return the encrypted form of that word.\n",
      "\n",
      "* First, write a program that spells out the name letter by letter - like \"quagga\" (that's an extinct zebra) would output like this:\n",
      "\n",
      "q\n",
      "\n",
      "u\n",
      "\n",
      "a\n",
      "\n",
      "g\n",
      "\n",
      "g\n",
      "\n",
      "a\n",
      "\n",
      "// **50 points**\n",
      "* Next, write a program that combines all of those letters together so that \"quagga\" would output like this: quagga\n",
      "// **15 points**\n"
     ]
    },
    {
     "cell_type": "heading",
     "level": 4,
     "metadata": {},
     "source": [
      "Part 2 (easier):"
     ]
    },
    {
     "cell_type": "markdown",
     "metadata": {},
     "source": [
      "Add a few more constraints to your code:\n",
      "* Make sure your key is legal. If a user enters an invalid key, your program should prompt them to correct it. For example, a key of 800 is invalid. Determine what the bounds of a \"legal\" key are, and then add this to your program. // **5 points**\n",
      "\n",
      "\n",
      "* Your first program only accounts for single words. If your user enters a phrase like **Hello World**, the space will be encrypted (like **Khoor#Zruog** with a key of 3). Improve your program by determining whether a character is a space - and if it is, do not encrypt it. You can test your code using Hello World and a key of 3, and the output should be **Khoor Zruog**. // **10 points**\n",
      "\n",
      "\n",
      "* Your first program encrypted a word in English - for example, **kevin** becomes **nhylq** with a key of 3. Ask your user whether they would like to encrypt or decrypt a word, and ask them to provide a key. For example, **nhylq** with a key of -3 should return **kevin.** // **10 points** "
     ]
    },
    {
     "cell_type": "heading",
     "level": 4,
     "metadata": {},
     "source": [
      "Part 3 (harder):"
     ]
    },
    {
     "cell_type": "markdown",
     "metadata": {},
     "source": [
      "* Your earlier code does not account for capital and lowercase letters. This is a problem because a name like **Zuckerberg** and a key of 17 will return **k\ufffdt|v\ufffdsv\ufffdx**. This happens because the code runs into the special ASCII characters after **Z** and before **a**. Write a program that determines whether a word has a capital or lowercase letter, and then returns the appropriate capital or lowercase letter. You can test your code using Zuckerberg and a key of 17, and the output should be **Qltbvisvix**. // **15 points**"
     ]
    },
    {
     "cell_type": "heading",
     "level": 4,
     "metadata": {},
     "source": [
      "Part 4 (the hardest!)"
     ]
    },
    {
     "cell_type": "markdown",
     "metadata": {},
     "source": [
      "Caesar Cipher is not a strong form of encryption because it is very easily deciphered even if we don't know the key. Write a \"brute force\" mode into your code that checks and returns every possible decrypted message using every available key. Only one of these should return a phrase in English! Your code is successful when you can decipher **Qgm sjw sf wfujqhlagf tgkk, eq xjawfv! Dwl'k escw kgew Ugehmlwj Kuawfuw l-kzajlk!**"
     ]
    },
    {
     "cell_type": "code",
     "collapsed": false,
     "input": [],
     "language": "python",
     "metadata": {},
     "outputs": []
    }
   ],
   "metadata": {}
  }
 ]
}