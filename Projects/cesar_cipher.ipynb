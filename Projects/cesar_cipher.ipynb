{
 "metadata": {
  "name": "",
  "signature": "sha256:6e535d5b8385fc72023e32af69082f8ea5803d1f0e9522262315b7e47834a6c8"
 },
 "nbformat": 3,
 "nbformat_minor": 0,
 "worksheets": [
  {
   "cells": [
    {
     "cell_type": "heading",
     "level": 2,
     "metadata": {},
     "source": [
      "Two functions are very useful for you: chr() and ord(). "
     ]
    },
    {
     "cell_type": "heading",
     "level": 4,
     "metadata": {},
     "source": [
      "chr() is a function that takes an ASCII integer (like 65) and returns a letter (or character) like 'A'."
     ]
    },
    {
     "cell_type": "heading",
     "level": 4,
     "metadata": {},
     "source": [
      "ord() is a function that takes a character like 'A' and returns an ASCII integer (like 65)."
     ]
    },
    {
     "cell_type": "code",
     "collapsed": false,
     "input": [
      "print chr(65)"
     ],
     "language": "python",
     "metadata": {},
     "outputs": [
      {
       "output_type": "stream",
       "stream": "stdout",
       "text": [
        "A\n"
       ]
      }
     ],
     "prompt_number": 3
    },
    {
     "cell_type": "code",
     "collapsed": false,
     "input": [
      "print ord(\"A\")"
     ],
     "language": "python",
     "metadata": {},
     "outputs": [
      {
       "output_type": "stream",
       "stream": "stdout",
       "text": [
        "65\n"
       ]
      }
     ],
     "prompt_number": 5
    },
    {
     "cell_type": "heading",
     "level": 2,
     "metadata": {},
     "source": [
      "Problem sets!"
     ]
    },
    {
     "cell_type": "markdown",
     "metadata": {},
     "source": [
      "1. Write a program that asks a user for a letter, like A. The program should print the ASCII number that corresponds with that letter."
     ]
    },
    {
     "cell_type": "code",
     "collapsed": false,
     "input": [
      "#Sample output below\n"
     ],
     "language": "python",
     "metadata": {},
     "outputs": [
      {
       "name": "stdout",
       "output_type": "stream",
       "stream": "stdout",
       "text": [
        "Give me a letter A\n"
       ]
      },
      {
       "output_type": "stream",
       "stream": "stdout",
       "text": [
        "65\n"
       ]
      }
     ],
     "prompt_number": 8
    },
    {
     "cell_type": "markdown",
     "metadata": {},
     "source": [
      "2. Write a program that asks a user for a word, like Jenkins. The program should print the sum of all of the ASCII numbers in that word."
     ]
    },
    {
     "cell_type": "code",
     "collapsed": false,
     "input": [
      "#Sample output below\n",
      "\n",
      "name = \"Freddie Gray\"\n",
      "#Your code goes here"
     ],
     "language": "python",
     "metadata": {},
     "outputs": [
      {
       "output_type": "stream",
       "stream": "stdout",
       "text": [
        "1126\n"
       ]
      }
     ],
     "prompt_number": 9
    },
    {
     "cell_type": "markdown",
     "metadata": {},
     "source": [
      "1. Write a program that asks a user for a letter, like C. Use chr() and ord() and a key of +3 to print the encrypted letter. For example, if the user gives \"C\", the program should print \"F.\""
     ]
    },
    {
     "cell_type": "code",
     "collapsed": false,
     "input": [
      "#Sample output below\n",
      "\n",
      "key = 3\n",
      "# Your code goes here"
     ],
     "language": "python",
     "metadata": {},
     "outputs": [
      {
       "output_type": "stream",
       "stream": "stdout",
       "text": [
        "F\n"
       ]
      }
     ],
     "prompt_number": 10
    },
    {
     "cell_type": "code",
     "collapsed": false,
     "input": [],
     "language": "python",
     "metadata": {},
     "outputs": []
    }
   ],
   "metadata": {}
  }
 ]
}