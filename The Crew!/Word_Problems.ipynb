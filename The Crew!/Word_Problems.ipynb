{
 "metadata": {
  "name": "",
  "signature": "sha256:3431bcf6ddfde3a22c7ee36263d8121fd46348be636e89e732733b0e7db889ab"
 },
 "nbformat": 3,
 "nbformat_minor": 0,
 "worksheets": [
  {
   "cells": [
    {
     "cell_type": "heading",
     "level": 2,
     "metadata": {},
     "source": [
      "Word problems!"
     ]
    },
    {
     "cell_type": "markdown",
     "metadata": {},
     "source": [
      "* Write a program that asks a user for their age, and stores that number using a variable called Age. Finally, your program should print \"You are Age years old.\" Remember, Age should be a number."
     ]
    },
    {
     "cell_type": "markdown",
     "metadata": {},
     "source": [
      "* Write a program that asks a user for their 1st sibling's age, then asks for their 2nd sibling's age, and then uses a variable called \"AverageAge\" to store the average age of their siblings. Finally, your program should print \"The average age of your two siblings is Age years old.\" Remember, Age should be a number."
     ]
    },
    {
     "cell_type": "markdown",
     "metadata": {},
     "source": [
      "* Write a program that asks a user for the price of a slice of pizza, then calculates how much it will cost if I want 60 slices of pizza. You can store that in a variable called Cost. Your program should print: \"It will cost you Cost for 60 slices of pizza.\" Remember, Cost should be a number."
     ]
    },
    {
     "cell_type": "markdown",
     "metadata": {},
     "source": [
      "* Write a program that asks a user for the price of a slice of pizza (Cost), then asks the user how many pieces of pizza they would like to buy (NumberOfPieces). Finally, calcuate the cost of buying that many pieces of pizza. Your program should print: It will cost you Cost for NumberOfPieces slices of pizza."
     ]
    }
   ],
   "metadata": {}
  }
 ]
}