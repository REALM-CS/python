{
 "metadata": {
  "name": "",
  "signature": "sha256:1ba4f3cf8d0370165f39ce3f1eccb99d5fcddb4f3f1045c6995821db10427b83"
 },
 "nbformat": 3,
 "nbformat_minor": 0,
 "worksheets": [
  {
   "cells": [
    {
     "cell_type": "heading",
     "level": 2,
     "metadata": {},
     "source": [
      "Practicing functions!"
     ]
    },
    {
     "cell_type": "code",
     "collapsed": false,
     "input": [
      "# Example of a function that calculates the price of a lunch:\n",
      "def LunchCost():\n",
      "    PizzaCost = raw_input(\"How much does a pizza cost?\")\n",
      "    NumberOfPizzas = raw_input(\"How many pizzas do you want?\")\n",
      "    CostOfLunch = PizzaCost * NumberOfPizzas\n",
      "    print CostOfLunch\n",
      "\n",
      "# Remember to write the line below - it's very important! This is called the Function Call.\n",
      "# It's where you tell the function to run!\n",
      "\n",
      "LunchCost() "
     ],
     "language": "python",
     "metadata": {},
     "outputs": []
    },
    {
     "cell_type": "heading",
     "level": 3,
     "metadata": {},
     "source": [
      "Function problem #1 - GPA Calculator"
     ]
    },
    {
     "cell_type": "markdown",
     "metadata": {},
     "source": [
      "Write a function called **GPA_Calculator.** This function will calculate your user's GPA. GPA is calculated by adding up all of a user's grade points and dividing those points by the number of classes the user has taken. Each A is worth 4 grade points, B is worth 3, C is worth 2 and F is worth 0. \n",
      "\n",
      "For example, say a user has taken 2 classes and earned one A and one B. They earn 4 points for the A, and 3 points for the B. In total, they have 7 points. Divide 7 by the total number of classes they took (2). That's 7/2, which is 3.50. The user's GPA is 3.50!"
     ]
    },
    {
     "cell_type": "heading",
     "level": 3,
     "metadata": {},
     "source": [
      "Function problem #2 - Temperature converter"
     ]
    },
    {
     "cell_type": "markdown",
     "metadata": {},
     "source": [
      "Write a function called **Temperature_Converter**. This function will convert a temperature in Fahrenheit to a temperature in Celcius. For example, 32 degrees Fahrenheit (freezing) is 0 degrees Celcius. The formula is Celcius = (Fahrenheit-32)*(5/9).\n",
      "*The function should ask a user for a temperature in Fahrenheit, and should print a temperature in Celcius. "
     ]
    },
    {
     "cell_type": "markdown",
     "metadata": {},
     "source": [
      "***BONUS:*** Create a function called Fahrenheit_Converter that converts Celcius into Fahrenheit. "
     ]
    },
    {
     "cell_type": "heading",
     "level": 2,
     "metadata": {},
     "source": [
      "Word problems!"
     ]
    },
    {
     "cell_type": "markdown",
     "metadata": {},
     "source": [
      "* Write a program that asks a user for their age, and stores that number using a variable called Age. Finally, your program should print \"You are Age years old.\" Remember, Age should be a number."
     ]
    },
    {
     "cell_type": "markdown",
     "metadata": {},
     "source": [
      "* Write a program that asks a user for their 1st sibling's age, then asks for their 2nd sibling's age, and then uses a variable called \"AverageAge\" to store the average age of their siblings. Finally, your program should print \"The average age of your two siblings is Age years old.\" Remember, Age should be a number."
     ]
    },
    {
     "cell_type": "markdown",
     "metadata": {},
     "source": [
      "* Write a program that asks a user for the price of a slice of pizza, then calculates how much it will cost if I want 60 slices of pizza. You can store that in a variable called Cost. Your program should print: \"It will cost you Cost for 60 slices of pizza.\" Remember, Cost should be a number."
     ]
    },
    {
     "cell_type": "markdown",
     "metadata": {},
     "source": [
      "* Write a program that asks a user for the price of a slice of pizza (Cost), then asks the user how many pieces of pizza they would like to buy (NumberOfPieces). Finally, calcuate the cost of buying that many pieces of pizza. Your program should print: It will cost you Cost for NumberOfPieces slices of pizza."
     ]
    },
    {
     "cell_type": "code",
     "collapsed": false,
     "input": [],
     "language": "python",
     "metadata": {},
     "outputs": []
    }
   ],
   "metadata": {}
  }
 ]
}